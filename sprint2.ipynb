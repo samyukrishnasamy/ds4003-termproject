{
 "cells": [
  {
   "cell_type": "markdown",
   "metadata": {},
   "source": [
    "Interactive App for NYC Squirrel Observations\n",
    "\n",
    "Samyu Krishnasamy\n",
    "DS 4003"
   ]
  },
  {
   "cell_type": "markdown",
   "metadata": {},
   "source": [
    "Description of your data, url(s), metadata/provenance (where did the data actually come from and the original purpose of that dataset)\n",
    "\n",
    "URL: https://github.com/rfordatascience/tidytuesday/tree/master/data/2019/2019-10-29\n",
    "\n",
    "Description of Data: The NYC Squirrel Census data is a unique dataset that provides insights into squirrel populations in Central Park, New York City. The dataset contains squirrel data for 3,023 sightings and includes information such as location, latitude and longitudinal coordinates, age, fur color, acitivities, and, interactions between squirrels and humans.\n",
    "\n",
    "Data Provenance: The data was collected as part of the 2018 Central Park Squirrel Census by a team of volunteers and the Squirrel Census organization. This dataset was published on NYC Open Data. Their purpose was to count and document the squirrel population in Central Park, gather data on their activities and behaviors, and engage the public in both science and nature. The data collection involved visual surveys and standardized data recording practices to ensure consistency and reliability.\n",
    "\n",
    "Why I chose this data and data provenance: I chose the NYC Squirrel Census data due to its unique combination of wildlife data and urban environment. It's fascinating to explore how squirrels thrive in Central Park, one of the most iconic parks in the world, situated in the midst of the urban landscape of New York City. This dataset provides a platform to understand the behaviors, seasonal patterns, and interactions of one of the most iconic creatures in New York City. I chose to delete certain variables such as 'color_notes', 'above_ground_sighter_measurement', 'zip_codes', 'lat_long', 'specific_location', 'highlight_fur_color', 'combination_of_primary_and_highlight_color', 'other_activities', 'other_interactions', and 'hectare_squirrel_number'. I will not be using these variables because they either contain too many missing observations or they are similar to other variables."
   ]
  },
  {
   "cell_type": "code",
   "execution_count": 113,
   "metadata": {},
   "outputs": [],
   "source": [
    "# import dependencies\n",
    "import pandas as pd\n",
    "import seaborn as sns\n",
    "import numpy as np\n",
    "import plotly.express as px"
   ]
  },
  {
   "cell_type": "code",
   "execution_count": 134,
   "metadata": {},
   "outputs": [],
   "source": [
    "data = pd.read_csv(\"nyc_squirrels.csv\")\n",
    "\n",
    "# convert 'TRUE'/'FALSE' strings to boolean values where necessary\n",
    "bool_columns = ['running', 'chasing', 'climbing', 'eating', 'foraging', 'approaches', 'indifferent', 'runs_from', 'tail_flags', 'tail_twitches']\n",
    "for col in bool_columns:\n",
    "    data[col] = data[col].astype(bool)\n",
    "\n",
    "# rename columns to make the noises' columns more clear\n",
    "data['sound_kuk'] = data['kuks'] > 0\n",
    "data['sound_quaa'] = data['quaas'] > 0\n",
    "data['sound_moan'] = data['moans'] > 0\n",
    "# drop the original sound columns\n",
    "data.drop(['kuks', 'quaas', 'moans'], axis=1, inplace=True)\n",
    "\n",
    "\n",
    "# drop other columns that might not be necessary or contain mostly 'unknown' or NaN values\n",
    "columns_to_drop = ['color_notes', 'above_ground_sighter_measurement', 'zip_codes', 'lat_long', 'specific_location', \n",
    "                   'highlight_fur_color', 'combination_of_primary_and_highlight_color', 'other_activities', \n",
    "                   'other_interactions', 'hectare_squirrel_number']\n",
    "data.drop(columns_to_drop, axis=1, inplace=True)\n",
    "\n",
    "# save cleaned data set into a csv\n",
    "data.to_csv('data.csv', index=False)\n",
    "\n"
   ]
  },
  {
   "cell_type": "code",
   "execution_count": 129,
   "metadata": {},
   "outputs": [
    {
     "name": "stdout",
     "output_type": "stream",
     "text": [
      "Data Info:\n",
      "<class 'pandas.core.frame.DataFrame'>\n",
      "RangeIndex: 3023 entries, 0 to 3022\n",
      "Data columns (total 26 columns):\n",
      " #   Column                  Non-Null Count  Dtype  \n",
      "---  ------                  --------------  -----  \n",
      " 0   long                    3023 non-null   float64\n",
      " 1   lat                     3023 non-null   float64\n",
      " 2   unique_squirrel_id      3023 non-null   object \n",
      " 3   hectare                 3023 non-null   object \n",
      " 4   shift                   3023 non-null   object \n",
      " 5   date                    3023 non-null   int64  \n",
      " 6   age                     2902 non-null   object \n",
      " 7   primary_fur_color       2968 non-null   object \n",
      " 8   location                2959 non-null   object \n",
      " 9   running                 3023 non-null   bool   \n",
      " 10  chasing                 3023 non-null   bool   \n",
      " 11  climbing                3023 non-null   bool   \n",
      " 12  eating                  3023 non-null   bool   \n",
      " 13  foraging                3023 non-null   bool   \n",
      " 14  tail_flags              3023 non-null   bool   \n",
      " 15  tail_twitches           3023 non-null   bool   \n",
      " 16  approaches              3023 non-null   bool   \n",
      " 17  indifferent             3023 non-null   bool   \n",
      " 18  runs_from               3023 non-null   bool   \n",
      " 19  community_districts     3023 non-null   int64  \n",
      " 20  borough_boundaries      3023 non-null   int64  \n",
      " 21  city_council_districts  3023 non-null   int64  \n",
      " 22  police_precincts        3023 non-null   int64  \n",
      " 23  sound_kuk               3023 non-null   bool   \n",
      " 24  sound_quaa              3023 non-null   bool   \n",
      " 25  sound_moan              3023 non-null   bool   \n",
      "dtypes: bool(13), float64(2), int64(5), object(6)\n",
      "memory usage: 345.5+ KB\n",
      " \n",
      "Number of observations: 3023\n",
      " \n",
      "Number of unique categories:\n",
      "shift: 2\n",
      "hectare: 339\n",
      "fur color: 3\n",
      "community districts: 5\n",
      "borough boundaries: 1\n",
      "city council districts 3\n",
      "police precincts: 5\n",
      " \n",
      "Missing Data per Variable:\n",
      "long                        0\n",
      "lat                         0\n",
      "unique_squirrel_id          0\n",
      "hectare                     0\n",
      "shift                       0\n",
      "date                        0\n",
      "age                       121\n",
      "primary_fur_color          55\n",
      "location                   64\n",
      "running                     0\n",
      "chasing                     0\n",
      "climbing                    0\n",
      "eating                      0\n",
      "foraging                    0\n",
      "tail_flags                  0\n",
      "tail_twitches               0\n",
      "approaches                  0\n",
      "indifferent                 0\n",
      "runs_from                   0\n",
      "community_districts         0\n",
      "borough_boundaries          0\n",
      "city_council_districts      0\n",
      "police_precincts            0\n",
      "sound_kuk                   0\n",
      "sound_quaa                  0\n",
      "sound_moan                  0\n",
      "dtype: int64\n",
      " \n",
      "Distribution of continuous variables and outliers:\n",
      " \n"
     ]
    },
    {
     "data": {
      "image/png": "[encoded data removed]",
      "text/plain": [
       "<Figure size 640x480 with 1 Axes>"
      ]
     },
     "metadata": {},
     "output_type": "display_data"
    },
    {
     "data": {
      "image/png": "[encoded data removed]",
      "text/plain": [
       "<Figure size 640x480 with 1 Axes>"
      ]
     },
     "metadata": {},
     "output_type": "display_data"
    }
   ],
   "source": [
    "## EXPLORATORY ANALYSIS ##\n",
    "print(f\"Data Info:\")\n",
    "data.info()\n",
    "\n",
    "print (\" \")\n",
    "\n",
    "print(f\"Number of observations:\", len(data))\n",
    "\n",
    "print (\" \")\n",
    "\n",
    "# Unique categories for a categorical variable\n",
    "print(f\"Number of unique categories:\")\n",
    "print(f\"shift:\", data[\"shift\"].nunique())\n",
    "print(f\"hectare:\", data[\"hectare\"].nunique())\n",
    "print(f\"fur color:\", data[\"primary_fur_color\"].nunique())\n",
    "print(f\"community districts:\", data[\"community_districts\"].nunique())\n",
    "print(f\"borough boundaries:\", data[\"borough_boundaries\"].nunique())\n",
    "print(f\"city council districts\", data[\"city_council_districts\"].nunique())\n",
    "print(f\"police precincts:\", data[\"police_precincts\"].nunique())\n",
    "\n",
    "print (\" \")\n",
    "\n",
    "# Missing data per variable\n",
    "print(f\"Missing Data per Variable:\")\n",
    "print(data.isnull().sum())\n",
    "\n",
    "print (\" \")\n",
    "\n",
    "# Distribution of continuous variables and outliers\n",
    "print(f\"Distribution of continuous variables and outliers:\")\n",
    "data.describe()\n",
    "\n",
    "print (\" \")\n",
    "\n",
    "# For visual exploration of distributions and outliers, consider using matplotlib or seaborn for histograms and box plots\n",
    "import matplotlib.pyplot as plt\n",
    "import seaborn as sns\n",
    "\n",
    "# Histogram for age\n",
    "sns.histplot(x=data['age'])\n",
    "plt.title('Distribution of Age')\n",
    "plt.xlabel('Age')\n",
    "plt.ylabel('Frequency')\n",
    "plt.show()\n",
    "\n",
    "# Histogram for primary fur color\n",
    "sns.histplot(x=data['primary_fur_color'])\n",
    "plt.title('Distribution of Primary Fur Color')\n",
    "plt.xlabel('Primary Fur Color')\n",
    "plt.ylabel('Frequency')\n",
    "plt.show()\n",
    "\n"
   ]
  },
  {
   "cell_type": "markdown",
   "metadata": {},
   "source": [
    "DICTIONARY\n",
    "variable name           description\n",
    "_____________           ___________\n",
    "long:                   Longitude (double)\n",
    "lat:                    Latitude (double)\n",
    "unique_squirrel_id:     Identification tag for each squirrel sighting, composed of 'Hectare ID' + 'Shift' +         \n",
    "                        'Date' +'Hectare Squirrel Number: (character)\n",
    "hectare:                ID tag derived from the hectare grid used for park area division and counting (character)\n",
    "shift:                  Indicates whether the sighting occurred in the morning ('AM') or late afternoon ('PM')     \n",
    "                        (character)\n",
    "date:                   Concatenation of the sighting session day and month (double)\n",
    "age:                    'Adult' or 'Juvenile' (character)\n",
    "primary_fur_color:      'Gray', 'Cinnamon', or 'Black' (character)\n",
    "highlight_fur_color:    Specific fur colors or combinations thereof (character)\n",
    "location:               'Ground Plane' or 'Above Ground', indicating the squirrel's location when first sighted       \n",
    "                        (character)\n",
    "running:                Squirrel seen running (logical)\n",
    "chasing:                Squirrel seen chasing (logical)\n",
    "climbing:               Squirrel seen climbing (logical)\n",
    "eating:                 Squirrel seen eating (logical)\n",
    "foraging:               Squirrel seen foraging (logical)\n",
    "kuks:                   Squirrel heard kukking, a vocal communication (logical)\n",
    "quaas:                  Squirrel heard quaaing, indicating a ground predator presence (logical)\n",
    "moans:                  Squirrel heard moaning, indicating an air predator presence (logical)\n",
    "tail_flags:             Squirrel seen flagging its tail, a defensive or confusing motion (logical)\n",
    "tail_twitches:          Squirrel seen twitching its tail, possibly as a signal to other squirrels (logical)\n",
    "approaches:             Squirrel seen approaching humans, possibly seeking food (logical)\n",
    "indifferent:            Squirrel indifferent to human presence (logical)\n",
    "runs_from:              Squirrel seen running from humans, perceiving them as a threat (logical)\n",
    "community_districts:    The community districts that the squirrel was found in (double)\n",
    "borough_boundaries:     The borough broundry that the squirrel was found in (double)\n",
    "city_council_districts: The city council district that the squirrel was found in (double)\n",
    "police_precincts:       The closest police prencint that the squirrel was found in (double)"
   ]
  },
  {
   "cell_type": "markdown",
   "metadata": {},
   "source": [
    "UI componenets to include in dashboard\n",
    "One UI componement I can include in my dashboard is a dropdown to select squirrel acitivities, such as running, eating, etc. Another component I can include is a checkbox to filter the squirrels by fur color and age. Lastly, I can include a slider to select observations within a specific timeframe."
   ]
  },
  {
   "cell_type": "markdown",
   "metadata": {},
   "source": [
    "3-6 Data visulizations\n",
    "The first Data visualization I want to include is a display squirrel sightings on a map of Central Park, using the latitudinal and longitudinal points for each observation. Another visualization is a bar chart showing the distribution of different squirrel activities. A similar chart is a pie chart showing the proportion of squirrels by Primary Fur Color. Lastly, I want to include a line graph showing the number of squirrel sightings over time to identify any trends or patterns."
   ]
  }
 ],
 "metadata": {
  "kernelspec": {
   "display_name": "ds4003",
   "language": "python",
   "name": "python3"
  },
  "language_info": {
   "codemirror_mode": {
    "name": "ipython",
    "version": 3
   },
   "file_extension": ".py",
   "mimetype": "text/x-python",
   "name": "python",
   "nbconvert_exporter": "python",
   "pygments_lexer": "ipython3",
   "version": "3.8.18"
  }
 },
 "nbformat": 4,
 "nbformat_minor": 2
}
